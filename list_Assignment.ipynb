{
 "cells": [
  {
   "cell_type": "markdown",
   "metadata": {},
   "source": [
    "# Module 3: Data Structures Assignments\n",
    "## Lesson 3.1: Lists\n",
    "### Assignment 1: Creating and Accessing Lists\n",
    "\n",
    "Create a list of the first 20 positive integers. Print the list.\n"
   ]
  },
  {
   "cell_type": "code",
   "execution_count": 2,
   "id": "ff051a9c",
   "metadata": {},
   "outputs": [
    {
     "name": "stdout",
     "output_type": "stream",
     "text": [
      "[1, 2, 3, 4, 5, 6, 7, 8, 9, 10, 11, 12, 13, 14, 15, 16, 17, 18, 19, 20]\n"
     ]
    }
   ],
   "source": [
    "l1=[1,2,3,4,5,6,7,8,9,10,11,12,13,14,15,16,17,18,19,20]\n",
    "print(l1)"
   ]
  },
  {
   "cell_type": "markdown",
   "id": "0fbd3ef8",
   "metadata": {},
   "source": [
    "\n",
    "\n",
    "\n",
    "### Assignment 2: Accessing List Elements\n",
    "\n",
    "Print the first, middle, and last elements of the list created in Assignment 1.\n"
   ]
  },
  {
   "cell_type": "code",
   "execution_count": 4,
   "id": "ff255fd8",
   "metadata": {},
   "outputs": [
    {
     "name": "stdout",
     "output_type": "stream",
     "text": [
      "1\n",
      "11\n",
      "20\n"
     ]
    }
   ],
   "source": [
    "print(l1[0])\n",
    "print(l1[10])\n",
    "print(l1[-1])"
   ]
  },
  {
   "cell_type": "markdown",
   "id": "6b8456d5",
   "metadata": {},
   "source": [
    "\n",
    "\n",
    "### Assignment 3: List Slicing\n",
    "\n",
    "Print the first five elements, the last five elements, and the elements from index 5 to 15 of the list created in Assignment 1.\n"
   ]
  },
  {
   "cell_type": "code",
   "execution_count": 11,
   "id": "04cfa398",
   "metadata": {},
   "outputs": [
    {
     "name": "stdout",
     "output_type": "stream",
     "text": [
      "[1, 2, 3, 4, 5]\n",
      "[16, 17, 18, 19, 20]\n",
      "[6, 7, 8, 9, 10, 11, 12, 13, 14, 15]\n"
     ]
    }
   ],
   "source": [
    "print(l1[0:5])\n",
    "print(l1[15:21])\n",
    "print(l1[5:15])"
   ]
  },
  {
   "cell_type": "markdown",
   "id": "cfeeaf97",
   "metadata": {},
   "source": [
    "\n",
    "\n",
    "### Assignment 4: List Comprehensions\n",
    "\n",
    "Create a new list containing the squares of the first 10 positive integers using a list comprehension. Print the new list.\n"
   ]
  },
  {
   "cell_type": "code",
   "execution_count": 12,
   "id": "8cdc647d",
   "metadata": {},
   "outputs": [
    {
     "name": "stdout",
     "output_type": "stream",
     "text": [
      "[1, 4, 9, 16, 25, 36, 49, 64, 81, 100]\n"
     ]
    }
   ],
   "source": [
    "square=[i*i for i in range(1,11)]\n",
    "print(square)"
   ]
  },
  {
   "cell_type": "markdown",
   "id": "ac2dddb9",
   "metadata": {},
   "source": [
    "\n",
    "\n",
    "\n",
    "\n",
    "### Assignment 5: Filtering Lists\n",
    "\n",
    "Create a new list containing only the even numbers from the list created in Assignment 1 using a list comprehension. Print the new list.\n"
   ]
  },
  {
   "cell_type": "code",
   "execution_count": 16,
   "id": "76d0d970",
   "metadata": {},
   "outputs": [
    {
     "name": "stdout",
     "output_type": "stream",
     "text": [
      "[2, 4, 6, 8, 10, 12, 14, 16, 18, 20]\n"
     ]
    }
   ],
   "source": [
    "even=[l for l in l1 if l%2==0]\n",
    "print(even)"
   ]
  },
  {
   "cell_type": "markdown",
   "id": "ee0d02bc",
   "metadata": {},
   "source": [
    "\n",
    "\n",
    "### Assignment 6: List Methods\n",
    "\n",
    "Create a list of random numbers and sort it in ascending and descending order. Remove the duplicates from the list and print the \n",
    "modified list.\n"
   ]
  },
  {
   "cell_type": "code",
   "execution_count": 23,
   "id": "ea658180",
   "metadata": {},
   "outputs": [
    {
     "name": "stdout",
     "output_type": "stream",
     "text": [
      "the original list [20, 1, 12, 17, 10, 20, 20, 2, 15, 12, 1, 12, 8, 5, 1]\n",
      "the sorted in ascending [1, 1, 1, 2, 5, 8, 10, 12, 12, 12, 15, 17, 20, 20, 20]\n",
      "the sorted in ascending [20, 20, 20, 17, 15, 12, 12, 12, 10, 8, 5, 2, 1, 1, 1]\n",
      "after removed all duplicate [1, 2, 5, 8, 10, 12, 15, 17, 20]\n"
     ]
    }
   ],
   "source": [
    "import random\n",
    "random_number=[random.randint(1,20) for _ in range(15)]\n",
    "print(f\"the original list {random_number}\")\n",
    "sort_numA=sorted(random_number)\n",
    "print(f\"the sorted in ascending {sort_numA}\")\n",
    "sort_numD=sorted(random_number,reverse= True)\n",
    "print(f\"the sorted in ascending {sort_numD}\")\n",
    "unique=list(set(random_number))\n",
    "print(f\"after removed all duplicate {unique}\")\n",
    "\n"
   ]
  },
  {
   "cell_type": "markdown",
   "id": "9b710f68",
   "metadata": {},
   "source": [
    "\n",
    "\n",
    "### Assignment 7: Nested Lists\n",
    "\n",
    "Create a nested list representing a 3x3 matrix and print the matrix. Access and print the element at the second row and third column.\n"
   ]
  },
  {
   "cell_type": "code",
   "execution_count": 24,
   "id": "07935c07",
   "metadata": {},
   "outputs": [
    {
     "name": "stdout",
     "output_type": "stream",
     "text": [
      "[[1, 2, 3], [4, 5, 6], [7, 8, 9]]\n",
      "6\n"
     ]
    }
   ],
   "source": [
    "matrix=[[1,2,3],\n",
    "        [4,5,6],\n",
    "        [7,8,9]\n",
    "]\n",
    "print(matrix)\n",
    "print(matrix[1][2])"
   ]
  },
  {
   "cell_type": "markdown",
   "id": "75cb120e",
   "metadata": {},
   "source": [
    "\n",
    "\n",
    "\n",
    "### Assignment 8: List of Dictionaries\n",
    "\n",
    "Create a list of dictionaries where each dictionary represents a student with keys 'name' and 'score'. Sort the list of dictionaries by the 'score' in descending order and print the sorted list.\n"
   ]
  },
  {
   "cell_type": "code",
   "execution_count": 25,
   "id": "503f420b",
   "metadata": {},
   "outputs": [
    {
     "name": "stdout",
     "output_type": "stream",
     "text": [
      "[{'name': 'aryan', 'score': 95}, {'name': 'pankaj', 'score': 90}, {'name': 'sachin', 'score': 80}, {'name': 'saurav', 'score': 70}]\n"
     ]
    }
   ],
   "source": [
    "student=[\n",
    "    {'name':'pankaj','score':90},\n",
    "    {'name':'sachin','score':80},\n",
    "    {'name':'saurav','score':70},\n",
    "    {'name':'aryan','score':95}\n",
    "]\n",
    "sorted_students=sorted(student,key=lambda x:x['score'],reverse=True)\n",
    "print(sorted_students)"
   ]
  },
  {
   "cell_type": "markdown",
   "id": "fc2fbe01",
   "metadata": {},
   "source": [
    "\n",
    "\n",
    "### Assignment 9: Matrix Transposition\n",
    "\n",
    "Write a function that takes a 3x3 matrix (nested list) as input and returns its transpose. Print the original and transposed matrices.\n"
   ]
  },
  {
   "cell_type": "code",
   "execution_count": 41,
   "id": "cd4f0fe1",
   "metadata": {},
   "outputs": [
    {
     "name": "stdout",
     "output_type": "stream",
     "text": [
      "the original matrix \n",
      "[1, 2, 3]\n",
      "[4, 5, 6]\n",
      "[7, 8, 9]\n",
      "transpose of the matrix \n",
      "[1, 4, 7]\n",
      "[2, 5, 8]\n",
      "[3, 6, 9]\n"
     ]
    }
   ],
   "source": [
    "def transpose(lst2):\n",
    "    transM=[[lst2[j][i] for j in range(len(lst2))] for i  in range(len(lst2[0]))]\n",
    "    return(transM)\n",
    "\n",
    "\n",
    "\n",
    "\n",
    "lst2=[\n",
    "    [1,2,3],\n",
    "    [4,5,6],\n",
    "    [7,8,9]\n",
    "]  \n",
    "transM=transpose(lst2)\n",
    "print(\"the original matrix \")  # note if we use formated string then the all the rows printed horizontally\n",
    "for row in lst2:\n",
    "    print(row)\n",
    "print(f\"transpose of the matrix \")  \n",
    "for row in transM:\n",
    "    print(row)"
   ]
  },
  {
   "cell_type": "markdown",
   "id": "b2a09116",
   "metadata": {},
   "source": [
    "\n",
    "\n",
    "### Assignment 10: Flattening a Nested List\n",
    "\n",
    "Write a function that takes a nested list and flattens it into a single list. Print the original and flattened lists.\n"
   ]
  },
  {
   "cell_type": "code",
   "execution_count": 47,
   "id": "8365521a",
   "metadata": {},
   "outputs": [
    {
     "name": "stdout",
     "output_type": "stream",
     "text": [
      "Original nested list:\n",
      "[[1, 2, 3], [4, 5, 6], [7, 8, 9]]\n",
      "Flattened list:\n",
      "[1, 2, 3, 4, 5, 6, 7, 8, 9]\n"
     ]
    }
   ],
   "source": [
    "def flatten_list(nested_list):\n",
    "    flat_list = [item for sublist in nested_list for item in sublist]\n",
    "    return flat_list\n",
    "\n",
    "nested_list = [\n",
    "    [1, 2, 3],\n",
    "    [4, 5, 6],\n",
    "    [7, 8, 9]\n",
    "]\n",
    "flattened = flatten_list(nested_list)\n",
    "print(\"Original nested list:\")\n",
    "print(nested_list)\n",
    "print(\"Flattened list:\")\n",
    "print(flattened)"
   ]
  },
  {
   "cell_type": "markdown",
   "id": "b14532de",
   "metadata": {},
   "source": [
    "\n",
    "\n",
    "### Assignment 11: List Manipulation\n",
    "\n",
    "Create a list of the first 10 positive integers. Remove the elements at indices 2, 4, and 6, and insert the element '99' at index 5. Print the modified list.\n"
   ]
  },
  {
   "cell_type": "code",
   "execution_count": 46,
   "id": "db8409fa",
   "metadata": {},
   "outputs": [
    {
     "name": "stdout",
     "output_type": "stream",
     "text": [
      "[1, 2, 3, 4, 5, 6, 7, 8, 9, 71, 5, 3, 6, 9]\n",
      "[1, 2, 4, 5, 7, 8, 71, 5, 3, 6, 9]\n",
      "[1, 2, 4, 5, 7, 99, 8, 71, 5, 3, 6, 9]\n"
     ]
    }
   ],
   "source": [
    "lst=[1,2,3,4,5,6,7,8,9,71,5,3,6,9]\n",
    "print(lst)\n",
    "del lst[2]\n",
    "del lst[4]\n",
    "del lst[6]\n",
    "print(lst)\n",
    "lst.insert(5,99)\n",
    "print(lst)"
   ]
  },
  {
   "cell_type": "markdown",
   "id": "04dfcaa7",
   "metadata": {},
   "source": [
    "\n",
    "### Assignment 12: List Zipping\n",
    "\n",
    "Create two lists of the same length. Use the `zip` function to combine these lists into a list of tuples and print the result.\n"
   ]
  },
  {
   "cell_type": "code",
   "execution_count": 48,
   "id": "624926cf",
   "metadata": {},
   "outputs": [
    {
     "name": "stdout",
     "output_type": "stream",
     "text": [
      "[(1, 'a'), (2, 'b'), (3, 'c'), (4, 'd'), (5, 'e')]\n"
     ]
    }
   ],
   "source": [
    "list1 = [1, 2, 3, 4, 5]\n",
    "list2 = ['a', 'b', 'c', 'd', 'e']\n",
    "zipped = list(zip(list1, list2))\n",
    "print(zipped)"
   ]
  },
  {
   "cell_type": "markdown",
   "id": "63c79ace",
   "metadata": {},
   "source": [
    "\n",
    "\n",
    "### Assignment 13: List Reversal\n",
    "\n",
    "Write a function that takes a list and returns a new list with the elements in reverse order. Print the original and reversed lists.\n"
   ]
  },
  {
   "cell_type": "code",
   "execution_count": 42,
   "id": "ba81553c",
   "metadata": {},
   "outputs": [
    {
     "name": "stdout",
     "output_type": "stream",
     "text": [
      "original lst [1, 2, 3, 4, 5]\n",
      "revrsed list [5, 4, 3, 2, 1]\n"
     ]
    }
   ],
   "source": [
    "def lst_reversed(lst):\n",
    "    return(lst[::-1])\n",
    "\n",
    "\n",
    "lst=[1,2,3,4,5] \n",
    "print(f\"original lst {lst}\") \n",
    "revers_lst=lst_reversed(lst)\n",
    "print(f\"revrsed list {revers_lst}\")  "
   ]
  },
  {
   "cell_type": "markdown",
   "id": "92ca172b",
   "metadata": {},
   "source": [
    "\n",
    "\n",
    "### Assignment 14: List Rotation\n",
    "\n",
    "Write a function that rotates a list by n positions. Print the original and rotated lists.\n"
   ]
  },
  {
   "cell_type": "code",
   "execution_count": 39,
   "id": "9c1b9a6c",
   "metadata": {},
   "outputs": [
    {
     "name": "stdout",
     "output_type": "stream",
     "text": [
      "original list [1, 2, 3, 4, 5]\n",
      "rotated list [3, 4, 5, 1, 2]\n"
     ]
    }
   ],
   "source": [
    "def rotate_byn(lst1,n):\n",
    "    return lst1[n:]+ lst1[:n] ## it just add elements from n position to end and elements till n position\n",
    "\n",
    "lst1=[1,2,3,4,5] \n",
    "rotated_list=rotate_byn(lst1,2)\n",
    "print(f\"original list {lst1}\") \n",
    "print(f\"rotated list {rotated_list}\")\n"
   ]
  },
  {
   "cell_type": "markdown",
   "id": "7a2f41f3",
   "metadata": {},
   "source": [
    "\n",
    "### Assignment 15: List Intersection\n",
    "\n",
    "Write a function that takes two lists and returns a new list containing only the elements that are present in both lists. Print the intersected list."
   ]
  },
  {
   "cell_type": "code",
   "execution_count": 27,
   "id": "dd71e3c1",
   "metadata": {},
   "outputs": [
    {
     "name": "stdout",
     "output_type": "stream",
     "text": [
      "[1, 2, 3, 4, 5, 6]\n",
      "[1, 2, 7, 8, 9, 5]\n",
      "[1, 2, 5]\n"
     ]
    }
   ],
   "source": [
    "def intersection_lst(lst1,lst2):\n",
    "    return[x for x in lst1 if x in lst2]\n",
    "\n",
    "lst1=[1,2,3,4,5,6]\n",
    "lst2=[1,2,7,8,9,5]\n",
    "intersection=intersection_lst(lst1,lst2)\n",
    "print(lst1)\n",
    "print(lst2)\n",
    "print(intersection)"
   ]
  },
  {
   "cell_type": "code",
   "execution_count": null,
   "metadata": {},
   "outputs": [],
   "source": []
  }
 ],
 "metadata": {
  "kernelspec": {
   "display_name": "Python 3",
   "language": "python",
   "name": "python3"
  },
  "language_info": {
   "codemirror_mode": {
    "name": "ipython",
    "version": 3
   },
   "file_extension": ".py",
   "mimetype": "text/x-python",
   "name": "python",
   "nbconvert_exporter": "python",
   "pygments_lexer": "ipython3",
   "version": "3.12.2"
  }
 },
 "nbformat": 4,
 "nbformat_minor": 5
}
