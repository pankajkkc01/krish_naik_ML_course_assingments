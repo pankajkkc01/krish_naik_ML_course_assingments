{
 "cells": [
  {
   "cell_type": "markdown",
   "metadata": {},
   "source": [
    "# Module 3: Data Structures Assignments\n",
    "## Lesson 3.3: Sets\n",
    "### Assignment 1: Creating and Accessing Sets\n",
    "\n",
    "Create a set with the first 10 positive integers. Print the set.\n"
   ]
  },
  {
   "cell_type": "code",
   "execution_count": 36,
   "id": "b8dc49d8",
   "metadata": {},
   "outputs": [
    {
     "name": "stdout",
     "output_type": "stream",
     "text": [
      "{1, 2, 3, 4, 5, 6, 7, 8, 9, 10}\n",
      "<class 'set'>\n"
     ]
    }
   ],
   "source": [
    "set1={1,2,3,4,5,6,7,8,9,10}\n",
    "print(set1)\n",
    "print(type(set1))"
   ]
  },
  {
   "cell_type": "markdown",
   "id": "6d5a69cb",
   "metadata": {},
   "source": [
    "\n",
    "### Assignment 2: Adding and Removing Elements\n",
    "\n",
    "Add the number 11 to the set created in Assignment 1. Then remove the number 1 from the set. Print the modified set.\n"
   ]
  },
  {
   "cell_type": "code",
   "execution_count": 37,
   "id": "499b6e88",
   "metadata": {},
   "outputs": [
    {
     "name": "stdout",
     "output_type": "stream",
     "text": [
      "{2, 3, 4, 5, 6, 7, 8, 9, 10, 11}\n"
     ]
    }
   ],
   "source": [
    "set1.add(11)\n",
    "##print(set1)\n",
    "set1.remove(1)\n",
    "print(set1)"
   ]
  },
  {
   "cell_type": "markdown",
   "id": "7b689828",
   "metadata": {},
   "source": [
    "\n",
    "### Assignment 3: Set Operations\n",
    "\n",
    "Create two sets: one with the first 5 positive integers and another with the first 5 even integers. Perform and print the results of union, intersection, difference, and symmetric difference operations on these sets.\n"
   ]
  },
  {
   "cell_type": "code",
   "execution_count": 38,
   "id": "df5c809e",
   "metadata": {},
   "outputs": [
    {
     "name": "stdout",
     "output_type": "stream",
     "text": [
      "{2, 10}\n",
      "{1, 2, 3, 4, 5, 6, 7, 8, 9, 10}\n",
      "{1, 3, 4, 5}\n",
      "{1, 3, 4, 5, 6, 7, 8, 9}\n"
     ]
    }
   ],
   "source": [
    "s1={1,2,3,4,5,10}\n",
    "s2={6,7,2,8,9,10}\n",
    "s3=s1.intersection(s2)\n",
    "print(s3)\n",
    "s4=s1.union(s2)\n",
    "print(s4)\n",
    "s5=s1.difference(s2)##difference contains elements that are in A but not in B.\n",
    "\n",
    "\n",
    "print(s5)\n",
    "s6=s1.symmetric_difference(s2)## symmetric_difference contains elements that are in either A or B but not in both\n",
    "print(s6)"
   ]
  },
  {
   "cell_type": "markdown",
   "id": "6f9863fa",
   "metadata": {},
   "source": [
    "\n",
    "### Assignment 4: Set Comprehensions\n",
    "\n",
    "Create a new set containing the squares of the first 10 positive integers using a set comprehension. Print the new set.\n"
   ]
  },
  {
   "cell_type": "code",
   "execution_count": 43,
   "id": "10d24bd0",
   "metadata": {},
   "outputs": [
    {
     "name": "stdout",
     "output_type": "stream",
     "text": [
      "{64, 1, 4, 36, 100, 9, 16, 49, 81, 25}\n"
     ]
    }
   ],
   "source": [
    "square={x*x for x in range(1,11)}\n",
    "print(square)"
   ]
  },
  {
   "cell_type": "markdown",
   "id": "c0628481",
   "metadata": {},
   "source": [
    "\n",
    "### Assignment 5: Filtering Sets\n",
    "\n",
    "Create a new set containing only the even numbers from the set created in Assignment 1 using a set comprehension. Print the new set.\n"
   ]
  },
  {
   "cell_type": "code",
   "execution_count": 46,
   "id": "0cdd2f1e",
   "metadata": {},
   "outputs": [
    {
     "name": "stdout",
     "output_type": "stream",
     "text": [
      "{2, 4, 6, 8, 10}\n"
     ]
    }
   ],
   "source": [
    "even_set={x for x in range(1,11) if x%2==0}\n",
    "print(even_set)"
   ]
  },
  {
   "cell_type": "markdown",
   "id": "6f463663",
   "metadata": {},
   "source": [
    "\n",
    "### Assignment 6: Set Methods\n",
    "\n",
    "Create a set with duplicate elements and remove the duplicates using set methods. Print the modified set.\n"
   ]
  },
  {
   "cell_type": "code",
   "execution_count": 47,
   "id": "b62ace1c",
   "metadata": {},
   "outputs": [
    {
     "name": "stdout",
     "output_type": "stream",
     "text": [
      "{1, 2, 3, 4}\n"
     ]
    }
   ],
   "source": [
    "dup_set={1,2,2,3,3,3,4,4,4,4}\n",
    "\n",
    "print(dup_set)## no neeed to use any kind of function becz set it self returns only unique valuse"
   ]
  },
  {
   "cell_type": "markdown",
   "id": "1db86508",
   "metadata": {},
   "source": [
    "\n",
    "### Assignment 7: Subsets and Supersets\n",
    "\n",
    "Create two sets: one with the first 5 positive integers and another with the first 3 positive integers. Check if the second set is a subset of the first set and if the first set is a superset of the second set. Print the results.\n"
   ]
  },
  {
   "cell_type": "code",
   "execution_count": 58,
   "id": "cf0f2b94",
   "metadata": {},
   "outputs": [
    {
     "name": "stdout",
     "output_type": "stream",
     "text": [
      "True\n",
      "True\n"
     ]
    }
   ],
   "source": [
    "s1={1,2,3,4,5}\n",
    "s2={1,2,3}\n",
    "t_f=s2.issubset(s1) ## yes  s2  is subset of s1\n",
    "print(t_f)\n",
    "f_t=s1.issuperset(s2) ## yes s1 is supper set of s1\n",
    "print(f_t)"
   ]
  },
  {
   "cell_type": "markdown",
   "id": "50990fc5",
   "metadata": {},
   "source": [
    "\n",
    "### Assignment 8: Frozenset\n",
    "\n",
    "Create a frozenset with the first 5 positive integers. Print the frozenset.\n"
   ]
  },
  {
   "cell_type": "code",
   "execution_count": 67,
   "id": "0b088a00",
   "metadata": {},
   "outputs": [
    {
     "name": "stdout",
     "output_type": "stream",
     "text": [
      "frozenset({1, 2, 3, 4, 5})\n"
     ]
    },
    {
     "data": {
      "text/plain": [
       "frozenset({1, 2, 3, 4, 5})"
      ]
     },
     "execution_count": 67,
     "metadata": {},
     "output_type": "execute_result"
    }
   ],
   "source": [
    "s2=frozenset(s1) ## once created element can be uodated or changed\n",
    "print(s2)\n",
    "tup=(1,2,3,4,5)\n",
    "frozenset(tup) ## by defoult tuple can not support the updaton or adding up elements being imutable\n",
    "\n",
    "## s2.add(111)### returns error"
   ]
  },
  {
   "cell_type": "markdown",
   "id": "76e451ae",
   "metadata": {},
   "source": [
    "\n",
    "### Assignment 9: Set and List Conversion\n",
    "\n",
    "Create a set with the first 5 positive integers. Convert it to a list, append the number 6, and convert it back to a set. Print the resulting set.\n"
   ]
  },
  {
   "cell_type": "code",
   "execution_count": 86,
   "id": "04ddd9b9",
   "metadata": {},
   "outputs": [
    {
     "name": "stdout",
     "output_type": "stream",
     "text": [
      "[1, 2, 3, 4, 5, 6]\n",
      "{1, 2, 3, 4, 5, 6}\n"
     ]
    }
   ],
   "source": [
    "s1={1,2,3,4,5}\n",
    "lst=list(s1)## convert to list\n",
    "lst.append(6)\n",
    "print(lst)\n",
    "s1=set(lst)## list converted to the set\n",
    "print(s1)\n"
   ]
  },
  {
   "cell_type": "markdown",
   "id": "22b6eaa0",
   "metadata": {},
   "source": [
    "\n",
    "### Assignment 10: Set and Dictionary\n",
    "\n",
    "Create a dictionary with set keys and integer values. Print the dictionary.\n"
   ]
  },
  {
   "cell_type": "code",
   "execution_count": 90,
   "id": "712f4624",
   "metadata": {},
   "outputs": [
    {
     "name": "stdout",
     "output_type": "stream",
     "text": [
      "{frozenset({'s1'}): 1, frozenset({'s2'}): 2, frozenset({'s3'}): 3}\n"
     ]
    }
   ],
   "source": [
    "d1={frozenset({\"s1\"}):1,frozenset({\"s2\"}):2,frozenset({\"s3\"}):3}\n",
    "print(d1)## having key as set and values as the integer"
   ]
  },
  {
   "cell_type": "markdown",
   "id": "1cc3377c",
   "metadata": {},
   "source": [
    "\n",
    "### Assignment 11: Iterating Over Sets\n",
    "\n",
    "Create a set and iterate over the elements, printing each element.\n"
   ]
  },
  {
   "cell_type": "code",
   "execution_count": 92,
   "id": "010a8cfc",
   "metadata": {},
   "outputs": [
    {
     "name": "stdout",
     "output_type": "stream",
     "text": [
      "1\n",
      "2\n",
      "3\n",
      "4\n",
      "5\n",
      "6\n"
     ]
    }
   ],
   "source": [
    "s1={1,2,3,4,5,6}\n",
    "for s in s1:\n",
    "    print(s)"
   ]
  },
  {
   "cell_type": "markdown",
   "id": "33c023d0",
   "metadata": {},
   "source": [
    "\n",
    "### Assignment 12: Removing Elements from Sets\n",
    "\n",
    "Create a set and remove elements from it until it is empty. Print the set after each removal.\n"
   ]
  },
  {
   "cell_type": "code",
   "execution_count": 103,
   "id": "ba7b18fa",
   "metadata": {},
   "outputs": [
    {
     "name": "stdout",
     "output_type": "stream",
     "text": [
      "{2, 3, 4, 5}\n",
      "{3, 4, 5}\n",
      "{4, 5}\n",
      "{5}\n",
      "set()\n"
     ]
    }
   ],
   "source": [
    "s1=set(range(1,6))\n",
    "\"\"\"print(s1)\n",
    "s1.remove(1)\n",
    "print(s1)\n",
    "s1.remove(2)\n",
    "print(s1)\n",
    "s1.remove(3)\n",
    "print(s1)\n",
    "s1.remove(4)\n",
    "print(s1)\n",
    "s1.remove(5)\n",
    "print(s1)\n",
    "\"\"\"\n",
    "\n",
    "while s1:\n",
    "    s1.pop()\n",
    "    print(s1)"
   ]
  },
  {
   "cell_type": "markdown",
   "id": "9b8058c3",
   "metadata": {},
   "source": [
    "\n",
    "### Assignment 13: Set Symmetric Difference Update\n",
    "\n",
    "Create two sets and update the first set with the symmetric difference of the two sets. Print the modified first set.\n"
   ]
  },
  {
   "cell_type": "code",
   "execution_count": 98,
   "id": "79cd3d50",
   "metadata": {},
   "outputs": [
    {
     "name": "stdout",
     "output_type": "stream",
     "text": [
      "{1, 5}\n"
     ]
    }
   ],
   "source": [
    "s1={1,2,3,4}\n",
    "s2={5,4,3,2}\n",
    "s1.symmetric_difference_update(s2)## complete function to remove and update\n",
    "print(s1)\n",
    "##print(s3)"
   ]
  },
  {
   "cell_type": "markdown",
   "id": "ff96ce87",
   "metadata": {},
   "source": [
    "\n",
    "### Assignment 14: Set Membership Testing\n",
    "\n",
    "Create a set and test if certain elements are present in the set. Print the results.\n"
   ]
  },
  {
   "cell_type": "code",
   "execution_count": 105,
   "id": "43af9903",
   "metadata": {},
   "outputs": [
    {
     "name": "stdout",
     "output_type": "stream",
     "text": [
      "True\n",
      "False\n"
     ]
    }
   ],
   "source": [
    "s1={1,2,3,4,5}\n",
    "print(3 in s1)## for membership test the in operator is used\n",
    "print(8 in s1)"
   ]
  },
  {
   "cell_type": "markdown",
   "id": "cbf2bee9",
   "metadata": {},
   "source": []
  },
  {
   "cell_type": "markdown",
   "id": "c0a9b9e0",
   "metadata": {},
   "source": [
    "\n",
    "### Assignment 15: Set of Tuples\n",
    "\n",
    "Create a set containing tuples, where each tuple contains two elements. Print the set."
   ]
  },
  {
   "cell_type": "code",
   "execution_count": 106,
   "metadata": {},
   "outputs": [
    {
     "name": "stdout",
     "output_type": "stream",
     "text": [
      "{(1, 2), (3, 4), (5, 6)}\n"
     ]
    }
   ],
   "source": [
    "s1={(1,2),(3,4),(5,6)}\n",
    "print(s1)"
   ]
  }
 ],
 "metadata": {
  "kernelspec": {
   "display_name": "Python 3",
   "language": "python",
   "name": "python3"
  },
  "language_info": {
   "codemirror_mode": {
    "name": "ipython",
    "version": 3
   },
   "file_extension": ".py",
   "mimetype": "text/x-python",
   "name": "python",
   "nbconvert_exporter": "python",
   "pygments_lexer": "ipython3",
   "version": "3.12.2"
  }
 },
 "nbformat": 4,
 "nbformat_minor": 5
}
