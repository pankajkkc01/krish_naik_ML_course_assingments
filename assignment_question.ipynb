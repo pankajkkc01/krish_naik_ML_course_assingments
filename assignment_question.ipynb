{
 "cells": [
  {
   "cell_type": "markdown",
   "metadata": {},
   "source": [
    "# Lesson 1.2: Python Basics\n",
    "## Topics Covered:\n",
    "- Syntax and Semantics\n",
    "- Variables and Data Types\n",
    "- Basic Operators (Arithmetic, Comparison, Logical)\n"
   ]
  },
  {
   "cell_type": "markdown",
   "metadata": {},
   "source": [
    "## 1. Syntax and Semantics\n",
    "\n",
    "**Question 1:** Write a Python program to print \"Hello, World!\"."
   ]
  },
  {
   "cell_type": "code",
   "execution_count": 1,
   "metadata": {},
   "outputs": [
    {
     "name": "stdout",
     "output_type": "stream",
     "text": [
      "hello world\n"
     ]
    }
   ],
   "source": [
    "# Your code here\n",
    "print(\"hello world\")"
   ]
  },
  {
   "cell_type": "markdown",
   "metadata": {},
   "source": [
    "**Question 2:** Write a Python program that takes a user input and prints it."
   ]
  },
  {
   "cell_type": "code",
   "execution_count": 2,
   "metadata": {},
   "outputs": [
    {
     "name": "stdout",
     "output_type": "stream",
     "text": [
      "your name is  pankaj\n"
     ]
    }
   ],
   "source": [
    "# Your code here\n",
    "name=input(\"enter your name\")\n",
    "print(\"your name is \",name)"
   ]
  },
  {
   "cell_type": "markdown",
   "metadata": {},
   "source": [
    "**Question 3:** Write a Python program to check if a number is positive, negative, or zero."
   ]
  },
  {
   "cell_type": "code",
   "execution_count": 3,
   "metadata": {},
   "outputs": [
    {
     "name": "stdout",
     "output_type": "stream",
     "text": [
      "positive number\n"
     ]
    }
   ],
   "source": [
    "# Your code here\n",
    "num=int(input(\"enter a number\"))\n",
    "if num<0:\n",
    "    print(\"nagetive number\")\n",
    "elif num>0:\n",
    "    print(\"positive number\")\n",
    "else:\n",
    "    print(\"zero\")"
   ]
  },
  {
   "cell_type": "markdown",
   "metadata": {},
   "source": [
    "**Question 4:** Write a Python program to find the largest of three numbers."
   ]
  },
  {
   "cell_type": "code",
   "execution_count": 13,
   "metadata": {},
   "outputs": [
    {
     "name": "stdout",
     "output_type": "stream",
     "text": [
      "The largest number is 45.0\n"
     ]
    }
   ],
   "source": [
    "# Your code here\n",
    "num1 = float(input(\"Enter first number: \"))\n",
    "num2 = float(input(\"Enter second number: \"))\n",
    "num3 = float(input(\"Enter third number: \"))\n",
    "\n",
    "if (num1 >= num2) and (num1 >= num3):\n",
    "    largest = num1\n",
    "elif (num2 >= num1) and (num2 >= num3):\n",
    "    largest = num2\n",
    "else:\n",
    "    largest = num3\n",
    "\n",
    "print(f\"The largest number is {largest}\")"
   ]
  },
  {
   "cell_type": "markdown",
   "metadata": {},
   "source": [
    "**Question 5:** Write a Python program to calculate the factorial of a number."
   ]
  },
  {
   "cell_type": "code",
   "execution_count": 14,
   "metadata": {},
   "outputs": [
    {
     "name": "stdout",
     "output_type": "stream",
     "text": [
      "The factorial of 5 is 120\n"
     ]
    }
   ],
   "source": [
    "# Your code here\n",
    "def factorial(n):\n",
    "    if n == 0:\n",
    "        return 1\n",
    "    else:\n",
    "        return n * factorial(n-1)\n",
    "\n",
    "num = int(input(\"Enter a number: \"))\n",
    "print(f\"The factorial of {num} is {factorial(num)}\")"
   ]
  },
  {
   "cell_type": "markdown",
   "metadata": {},
   "source": [
    "## 2. Variables and Data Types\n",
    "\n",
    "**Question 6:** Create variables of different data types: integer, float, string, and boolean. Print their values and types."
   ]
  },
  {
   "cell_type": "code",
   "execution_count": 15,
   "metadata": {},
   "outputs": [
    {
     "name": "stdout",
     "output_type": "stream",
     "text": [
      "Integer value: 10, type: <class 'int'>\n",
      "Float value: 10.5, type: <class 'float'>\n",
      "String value: Hello, type: <class 'str'>\n",
      "Boolean value: True, type: <class 'bool'>\n"
     ]
    }
   ],
   "source": [
    "# Your code here\n",
    "integer_var = 10\n",
    "float_var = 10.5\n",
    "string_var = \"Hello\"\n",
    "boolean_var = True\n",
    "\n",
    "print(f\"Integer value: {integer_var}, type: {type(integer_var)}\")\n",
    "print(f\"Float value: {float_var}, type: {type(float_var)}\")\n",
    "print(f\"String value: {string_var}, type: {type(string_var)}\")\n",
    "print(f\"Boolean value: {boolean_var}, type: {type(boolean_var)}\")"
   ]
  },
  {
   "cell_type": "markdown",
   "metadata": {},
   "source": [
    "**Question 7:** Write a Python program to swap the values of two variables."
   ]
  },
  {
   "cell_type": "code",
   "execution_count": 16,
   "metadata": {},
   "outputs": [
    {
     "name": "stdout",
     "output_type": "stream",
     "text": [
      "Before swap: a = 5, b = 10\n",
      "After swap: a = 10, b = 5\n"
     ]
    }
   ],
   "source": [
    "# Your code here\n",
    "a = 5\n",
    "b = 10\n",
    "print(f\"Before swap: a = {a}, b = {b}\")\n",
    "\n",
    "# Swapping\n",
    "a, b = b, a\n",
    "print(f\"After swap: a = {a}, b = {b}\")"
   ]
  },
  {
   "cell_type": "markdown",
   "metadata": {},
   "source": [
    "**Question 8:** Write a Python program to convert Celsius to Fahrenheit."
   ]
  },
  {
   "cell_type": "code",
   "execution_count": 17,
   "metadata": {},
   "outputs": [
    {
     "name": "stdout",
     "output_type": "stream",
     "text": [
      "40.0°C is equal to 104.0°F\n"
     ]
    }
   ],
   "source": [
    "# Your code here\n",
    "celsius = float(input(\"Enter temperature in Celsius: \"))\n",
    "fahrenheit = (celsius * 9/5) + 32\n",
    "print(f\"{celsius}°C is equal to {fahrenheit}°F\")"
   ]
  },
  {
   "cell_type": "markdown",
   "metadata": {},
   "source": [
    "**Question 9:** Write a Python program to concatenate two strings."
   ]
  },
  {
   "cell_type": "code",
   "execution_count": 18,
   "metadata": {},
   "outputs": [
    {
     "name": "stdout",
     "output_type": "stream",
     "text": [
      "Hello World\n"
     ]
    }
   ],
   "source": [
    "# Your code here\n",
    "string1 = \"Hello\"\n",
    "string2 = \"World\"\n",
    "concatenated_string = string1 + \" \" + string2\n",
    "print(concatenated_string)"
   ]
  },
  {
   "cell_type": "markdown",
   "metadata": {},
   "source": [
    "**Question 10:** Write a Python program to check if a variable is of a specific data type."
   ]
  },
  {
   "cell_type": "code",
   "execution_count": 19,
   "metadata": {},
   "outputs": [
    {
     "name": "stdout",
     "output_type": "stream",
     "text": [
      "10.5 is a float\n"
     ]
    }
   ],
   "source": [
    "# Your code here\n",
    "var = 10.5\n",
    "if isinstance(var, float):\n",
    "    print(f\"{var} is a float\")\n",
    "else:\n",
    "    print(f\"{var} is not a float\")"
   ]
  },
  {
   "cell_type": "markdown",
   "metadata": {},
   "source": [
    "## 3. Basic Operators (Arithmetic, Comparison, Logical)\n",
    "\n",
    "**Question 11:** Write a Python program to perform arithmetic operations: addition, subtraction, multiplication, and division."
   ]
  },
  {
   "cell_type": "code",
   "execution_count": 20,
   "metadata": {},
   "outputs": [
    {
     "name": "stdout",
     "output_type": "stream",
     "text": [
      "Addition: 5 + 3 = 8\n",
      "Subtraction: 5 - 3 = 2\n",
      "Multiplication: 5 * 3 = 15\n",
      "Division: 5 / 3 = 1.6666666666666667\n"
     ]
    }
   ],
   "source": [
    "# Your code here\n",
    "a = 5\n",
    "b = 3\n",
    "\n",
    "print(f\"Addition: {a} + {b} = {a + b}\")\n",
    "print(f\"Subtraction: {a} - {b} = {a - b}\")\n",
    "print(f\"Multiplication: {a} * {b} = {a * b}\")\n",
    "print(f\"Division: {a} / {b} = {a / b}\")"
   ]
  },
  {
   "cell_type": "markdown",
   "metadata": {},
   "source": [
    "**Question 12:** Write a Python program to demonstrate comparison operators: equal to, not equal to, greater than, less than."
   ]
  },
  {
   "cell_type": "code",
   "execution_count": null,
   "metadata": {},
   "outputs": [],
   "source": [
    "# Your code here\n",
    "a = 5\n",
    "b = 3\n",
    "\n",
    "print(f\"{a} == {b}: {a == b}\")\n",
    "print(f\"{a} != {b}: {a != b}\")\n",
    "print(f\"{a} > {b}: {a > b}\")\n",
    "print(f\"{a} < {b}: {a < b}\")"
   ]
  },
  {
   "cell_type": "markdown",
   "metadata": {},
   "source": [
    "**Question 13:** Write a Python program to demonstrate logical operators: and, or, not."
   ]
  },
  {
   "cell_type": "code",
   "execution_count": 21,
   "metadata": {},
   "outputs": [
    {
     "name": "stdout",
     "output_type": "stream",
     "text": [
      "True and False: False\n",
      "True or False: True\n",
      "not True: False\n"
     ]
    }
   ],
   "source": [
    "# Your code here\n",
    "a = True\n",
    "b = False\n",
    "\n",
    "print(f\"True and False: {a and b}\")\n",
    "print(f\"True or False: {a or b}\")\n",
    "print(f\"not True: {not a}\")\n"
   ]
  },
  {
   "cell_type": "markdown",
   "metadata": {},
   "source": [
    "**Question 14:** Write a Python program to calculate the square of a number."
   ]
  },
  {
   "cell_type": "code",
   "execution_count": 12,
   "metadata": {},
   "outputs": [
    {
     "name": "stdout",
     "output_type": "stream",
     "text": [
      "enter the square of 5  25\n"
     ]
    }
   ],
   "source": [
    "# Your code here\n",
    "num=int(input(\"enter a number\"))\n",
    "print(f\"enter the square of {num} \",num*num)"
   ]
  },
  {
   "cell_type": "markdown",
   "metadata": {},
   "source": [
    "**Question 15:** Write a Python program to check if a number is even or odd."
   ]
  },
  {
   "cell_type": "code",
   "execution_count": 11,
   "metadata": {},
   "outputs": [
    {
     "name": "stdout",
     "output_type": "stream",
     "text": [
      "odd\n"
     ]
    }
   ],
   "source": [
    "# Your code here\n",
    "num=int(input(\"enter number\"))\n",
    "if num%2==0:\n",
    "    print(\"even\")\n",
    "else:\n",
    "    print(\"odd\")"
   ]
  },
  {
   "cell_type": "markdown",
   "metadata": {},
   "source": [
    "**Question 16:** Write a Python program to find the sum of the first n natural numbers."
   ]
  },
  {
   "cell_type": "code",
   "execution_count": 9,
   "metadata": {},
   "outputs": [
    {
     "name": "stdout",
     "output_type": "stream",
     "text": [
      "sum of 5 natural number is  15\n"
     ]
    }
   ],
   "source": [
    "# Your code here\n",
    "num=int(input(\"enter a number\"))\n",
    "sum=0\n",
    "for i in range(1,num+1):\n",
    "    sum=sum+i\n",
    "print(f\"sum of {num} natural number is \",sum)    \n"
   ]
  },
  {
   "cell_type": "markdown",
   "metadata": {},
   "source": [
    "**Question 17:** Write a Python program to check if a year is a leap year."
   ]
  },
  {
   "cell_type": "code",
   "execution_count": 8,
   "metadata": {},
   "outputs": [
    {
     "name": "stdout",
     "output_type": "stream",
     "text": [
      "not a leap year\n"
     ]
    }
   ],
   "source": [
    "# Your code here\n",
    "year= int(input(\"enter a year to checked\"))\n",
    "if (year%4==0 and year%100!=0) or year%400==0:\n",
    "    print(\"leap year\")\n",
    "else:\n",
    "    print(\"not a leap year\")"
   ]
  },
  {
   "cell_type": "markdown",
   "metadata": {},
   "source": [
    "**Question 18:** Write a Python program to reverse a string."
   ]
  },
  {
   "cell_type": "code",
   "execution_count": 6,
   "metadata": {},
   "outputs": [
    {
     "name": "stdout",
     "output_type": "stream",
     "text": [
      "reversed string  jaknap\n"
     ]
    }
   ],
   "source": [
    "# Your code here\n",
    "str1=input(\"enter a string\")\n",
    "str2=str1[::-1] # this slicing method str1[start end step] but if step is -1\n",
    "print(\"reversed string \",str2)"
   ]
  },
  {
   "cell_type": "markdown",
   "metadata": {},
   "source": [
    "**Question 19:** Write a Python program to check if a string is a palindrome."
   ]
  },
  {
   "cell_type": "code",
   "execution_count": 5,
   "metadata": {},
   "outputs": [
    {
     "name": "stdout",
     "output_type": "stream",
     "text": [
      "palindrome\n"
     ]
    }
   ],
   "source": [
    "# Your code here\n",
    "str1=input(\"enter a string\")\n",
    "str2=''.join(reversed(str1)) # join just connect the all chr returend in reversed order by reversed(str1)\n",
    "if str1==str2:\n",
    "    print(\"palindrome\")\n",
    "else:\n",
    "    print(\"not palindrome\")\n"
   ]
  },
  {
   "cell_type": "markdown",
   "metadata": {},
   "source": [
    "**Question 20:** Write a Python program to sort a list of numbers in ascending order."
   ]
  },
  {
   "cell_type": "code",
   "execution_count": 4,
   "metadata": {},
   "outputs": [
    {
     "name": "stdout",
     "output_type": "stream",
     "text": [
      "before sorting [5, 8, 50, 9]\n",
      "after sorting [5, 8, 9, 50]\n"
     ]
    }
   ],
   "source": [
    "# Your code here\n",
    "l1=[5,8,50,9]\n",
    "print(\"before sorting\",l1)\n",
    "list.sort(l1)\n",
    "print(\"after sorting\",l1)"
   ]
  }
 ],
 "metadata": {
  "kernelspec": {
   "display_name": "Python 3",
   "language": "python",
   "name": "python3"
  },
  "language_info": {
   "codemirror_mode": {
    "name": "ipython",
    "version": 3
   },
   "file_extension": ".py",
   "mimetype": "text/x-python",
   "name": "python",
   "nbconvert_exporter": "python",
   "pygments_lexer": "ipython3",
   "version": "3.12.2"
  }
 },
 "nbformat": 4,
 "nbformat_minor": 4
}
